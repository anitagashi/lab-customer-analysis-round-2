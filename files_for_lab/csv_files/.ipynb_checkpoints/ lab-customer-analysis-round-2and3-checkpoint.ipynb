{
 "cells": [
  {
   "cell_type": "markdown",
   "id": "a0259a84",
   "metadata": {},
   "source": [
    "# ROUND 2"
   ]
  },
  {
   "cell_type": "code",
   "execution_count": null,
   "id": "3818a266",
   "metadata": {},
   "outputs": [],
   "source": [
    "import pandas as pd\n",
    "\n",
    "\n",
    "#Read file into python as dataframes\n",
    "file1=pd.read_csv('marketing_customer_analysis.csv') \n",
    "display(file1)\n",
    "print(file1.shape)"
   ]
  },
  {
   "cell_type": "code",
   "execution_count": null,
   "id": "eb4b6bbe",
   "metadata": {},
   "outputs": [],
   "source": [
    "#Standardize the headers name \n",
    "cols = []\n",
    "for column in file1.columns:\n",
    "    cols.append(column.lower())\n",
    "cols\n",
    "file1.columns = cols\n",
    "display(file1)"
   ]
  },
  {
   "cell_type": "code",
   "execution_count": null,
   "id": "10230f92",
   "metadata": {},
   "outputs": [],
   "source": [
    "numerical_cols = file1.select_dtypes(include=['float', 'int']).columns.tolist()"
   ]
  },
  {
   "cell_type": "code",
   "execution_count": null,
   "id": "cc635d1b",
   "metadata": {},
   "outputs": [],
   "source": [
    "print(numerical_cols)"
   ]
  },
  {
   "cell_type": "code",
   "execution_count": null,
   "id": "13be58bd",
   "metadata": {},
   "outputs": [],
   "source": [
    "categorical_cols = file1.select_dtypes(include=['object']).columns.tolist"
   ]
  },
  {
   "cell_type": "code",
   "execution_count": null,
   "id": "2d38e32c",
   "metadata": {
    "scrolled": true
   },
   "outputs": [],
   "source": [
    "print(categorical_cols)"
   ]
  },
  {
   "cell_type": "code",
   "execution_count": null,
   "id": "aa314343",
   "metadata": {},
   "outputs": [],
   "source": []
  },
  {
   "cell_type": "code",
   "execution_count": null,
   "id": "12ae231e",
   "metadata": {},
   "outputs": [],
   "source": [
    "import pandas as pd\n",
    "\n",
    "nulls_df = pd.DataFrame(round(file1.isna().sum()/len(file1),4)*100)\n",
    "nulls_df\n",
    "nulls_df = nulls_df.reset_index()\n",
    "nulls_df\n",
    "nulls_df.columns = ['header_name', 'percent_nulls']\n",
    "display(nulls_df)"
   ]
  },
  {
   "cell_type": "code",
   "execution_count": null,
   "id": "5ec280fb",
   "metadata": {},
   "outputs": [],
   "source": [
    "# Identify columns with more than 1% of NaNs\n"
   ]
  },
  {
   "cell_type": "code",
   "execution_count": null,
   "id": "cd211e7e",
   "metadata": {},
   "outputs": [],
   "source": [
    "columns_drop = nulls_df[nulls_df['percent_nulls']>1]['header_name']  \n",
    "print(columns_drop.values)"
   ]
  },
  {
   "cell_type": "code",
   "execution_count": null,
   "id": "263ec5ec",
   "metadata": {},
   "outputs": [],
   "source": []
  },
  {
   "cell_type": "code",
   "execution_count": null,
   "id": "c8f52689",
   "metadata": {},
   "outputs": [],
   "source": [
    "file1 = pd.read_csv('marketing_customer_analysis.csv')\n",
    "\n",
    "# Count the number of NaN values in each column of the DataFrame\n",
    "nan_count = file1.isna().sum()\n",
    "\n",
    "# Print the resulting counts\n",
    "print(nan_count)\n"
   ]
  },
  {
   "cell_type": "code",
   "execution_count": null,
   "id": "33eaf981",
   "metadata": {},
   "outputs": [],
   "source": [
    "#Find the most frequently used value in column\n",
    "\n",
    "frequent_state = file1['State'].value_counts()\n",
    "print(frequent_state)\n",
    "\n",
    "# Replace NaN values in the 'State' column with 'California'\n",
    "file1['State'].fillna('California', inplace=True)\n",
    "\n",
    "# Print the updated DataFrame to verify the changes\n",
    "display(file1)\n"
   ]
  },
  {
   "cell_type": "code",
   "execution_count": null,
   "id": "3a326100",
   "metadata": {},
   "outputs": [],
   "source": [
    "#Find the most frequently used value in column\n",
    "\n",
    "frequent_response = file1['Response'].value_counts()\n",
    "print(frequent_response)\n",
    "\n",
    "# Replace NaN values in the 'Response' column with 'No'\n",
    "file1['Response'].fillna('No', inplace=True)\n",
    "\n",
    "# Print the updated DataFrame to verify the changes\n",
    "display(file1)\n",
    "\n"
   ]
  },
  {
   "cell_type": "code",
   "execution_count": null,
   "id": "ace467ea",
   "metadata": {},
   "outputs": [],
   "source": [
    "#Find the most frequently used value in column\n",
    "\n",
    "frequent_Number_of_Open_Complaints = file1['Number of Open Complaints'].value_counts()\n",
    "print(frequent_Number_of_Open_Complaints)\n",
    "\n",
    "\n",
    "# Replace NaN values in the 'Number of Open Complaints' column with '0'\n",
    "file1['Number of Open Complaints'].fillna('0', inplace=True)\n",
    "\n",
    "# Print the updated DataFrame to verify the changes\n",
    "display(file1)\n"
   ]
  },
  {
   "cell_type": "code",
   "execution_count": null,
   "id": "1deab7cd",
   "metadata": {},
   "outputs": [],
   "source": [
    "#Find the most frequently used value in column\n",
    "\n",
    "frequent_Vehicle_Class = file1['Vehicle Class'].value_counts()\n",
    "print(frequent_Vehicle_Class)\n",
    "\n",
    "\n",
    "# Replace NaN values in the 'Vehicle Class' column with 'Four Door Car'\n",
    "file1['Vehicle Class'].fillna('Four Door Car', inplace=True)\n",
    "\n",
    "# Print the updated DataFrame to verify the changes\n",
    "display(file1)"
   ]
  },
  {
   "cell_type": "code",
   "execution_count": null,
   "id": "6a24d060",
   "metadata": {},
   "outputs": [],
   "source": [
    "#Find the most frequently used value in column\n",
    "\n",
    "frequent_Vehicle_Type = file1['Vehicle Type'].value_counts()\n",
    "print(frequent_Vehicle_Type)\n",
    "\n",
    "\n",
    "\n",
    "# Replace NaN values in the 'Vehicle Type' column with 'A'\n",
    "file1['Vehicle Type'].fillna('A', inplace=True)\n",
    "\n",
    "# Print the updated DataFrame to verify the changes\n",
    "display(file1)"
   ]
  },
  {
   "cell_type": "code",
   "execution_count": null,
   "id": "46b33229",
   "metadata": {},
   "outputs": [],
   "source": [
    "#Find the most frequently used value in column\n",
    "\n",
    "frequent_Vehicle_Size = file1['Vehicle Size'].value_counts()\n",
    "print(frequent_Vehicle_Size)\n",
    "\n",
    "\n",
    "# Replace NaN values in the 'Vehicle Size' column with 'Medsize'\n",
    "file1['Vehicle Size'].fillna('Medsize', inplace=True)\n",
    "\n",
    "# Print the updated DataFrame to verify the changes\n",
    "display(file1)"
   ]
  },
  {
   "cell_type": "code",
   "execution_count": null,
   "id": "07b86f64",
   "metadata": {},
   "outputs": [],
   "source": [
    "#Find the most frequently used value in column\n",
    "\n",
    "frequent_Months_Since_Last_Claim = file1['Months Since Last Claim'].value_counts()\n",
    "print(frequent_Months_Since_Last_Claim)\n",
    "\n",
    "\n",
    "# Replace NaN values in the 'Months Since Last Claim' column with '3.0'\n",
    "file1['Months Since Last Claim'].fillna('3.0', inplace=True)\n",
    "\n",
    "# Print the updated DataFrame to verify the changes\n",
    "display(file1)\n",
    "\n",
    "\n",
    "\n"
   ]
  },
  {
   "cell_type": "code",
   "execution_count": null,
   "id": "1e4cf4be",
   "metadata": {},
   "outputs": [],
   "source": [
    "nulls_df = pd.DataFrame(round(file1.isna().sum()/len(file1),4)*100)\n",
    "nulls_df\n",
    "nulls_df = nulls_df.reset_index()\n",
    "nulls_df\n",
    "nulls_df.columns = ['header_name', 'percent_nulls']\n",
    "nulls_df"
   ]
  },
  {
   "cell_type": "code",
   "execution_count": null,
   "id": "6d517e89",
   "metadata": {
    "scrolled": true
   },
   "outputs": [],
   "source": [
    "file1['Month'] = pd.DatetimeIndex(file1['Effective To Date']).month\n",
    "file1\n",
    "file1['Month'] = pd.to_datetime(file1['Effective To Date'], format='%m/%d/%y').dt.strftime('%B')\n",
    "display(file1)\n",
    "\n",
    "#we can do also like this\n",
    "#file1['effective to dates'] = pd.to_datetime(file1['effective to date'])\n",
    "#file1['Month'] = file1['effective to dates'].dt.month"
   ]
  },
  {
   "cell_type": "code",
   "execution_count": null,
   "id": "8af58487",
   "metadata": {},
   "outputs": [],
   "source": [
    "file1_filtered = file1[file1['Month'].isin(['January', 'February', 'March'])]\n",
    "display(file1_filtered)\n"
   ]
  },
  {
   "cell_type": "code",
   "execution_count": null,
   "id": "2cfe977a",
   "metadata": {},
   "outputs": [],
   "source": [
    "file1.to_csv('cleaned_filled.csv', index=False)"
   ]
  },
  {
   "cell_type": "code",
   "execution_count": null,
   "id": "23549622",
   "metadata": {},
   "outputs": [],
   "source": [
    "#Bonus \n",
    "#file1=pd.read_csv('marketing_customer_analysis.csv') "
   ]
  },
  {
   "cell_type": "code",
   "execution_count": null,
   "id": "8e00fdbf",
   "metadata": {},
   "outputs": [],
   "source": [
    "X"
   ]
  },
  {
   "cell_type": "code",
   "execution_count": null,
   "id": "19f1ecff",
   "metadata": {},
   "outputs": [],
   "source": [
    "data1=clean_data(file1)"
   ]
  },
  {
   "cell_type": "markdown",
   "id": "03190931",
   "metadata": {},
   "source": [
    "# ROUND 3"
   ]
  },
  {
   "cell_type": "code",
   "execution_count": null,
   "id": "cb51648b",
   "metadata": {},
   "outputs": [],
   "source": [
    "import pandas as pd\n",
    "import matplotlib.pyplot as plt\n",
    "import numpy as np\n",
    "import seaborn as sns\n"
   ]
  },
  {
   "cell_type": "code",
   "execution_count": null,
   "id": "9ee5927d",
   "metadata": {},
   "outputs": [],
   "source": [
    "#Read file into python as dataframes\n",
    "\n",
    "data=pd.read_csv('marketing_customer_analysis.csv') \n",
    "display(data)\n",
    "print(data.shape)"
   ]
  },
  {
   "cell_type": "code",
   "execution_count": null,
   "id": "f9020ee8",
   "metadata": {},
   "outputs": [],
   "source": [
    "#we have to print the data infos\n",
    "print(data.info())"
   ]
  },
  {
   "cell_type": "code",
   "execution_count": null,
   "id": "0688fdd3",
   "metadata": {},
   "outputs": [],
   "source": [
    "# We describe the dataframe \n",
    "data.dtypes\n",
    "\n",
    "display(data.describe(include='all').T)"
   ]
  },
  {
   "cell_type": "code",
   "execution_count": null,
   "id": "078f9f73",
   "metadata": {},
   "outputs": [],
   "source": [
    "#Show a plot of the total number of responses\n",
    "\n",
    "sns.countplot(data=data, x='Response', order=['Yes', 'No']) \n"
   ]
  },
  {
   "cell_type": "code",
   "execution_count": null,
   "id": "4c2504c6",
   "metadata": {},
   "outputs": [],
   "source": [
    "sns.countplot(data=data, x='Sales Channel', hue='Response')\n",
    "plt.title('Response Rate by Sales Channel')\n",
    "plt.xlabel('Sales Channel')\n",
    "plt.ylabel('Count')\n",
    "plt.show()\n"
   ]
  },
  {
   "cell_type": "code",
   "execution_count": null,
   "id": "79b28f2b",
   "metadata": {},
   "outputs": [],
   "source": [
    "# Convert 'Response' column to numerical values\n",
    "data['Response_numeric'] = data['Response'].apply(lambda x: 1 if x=='Yes' else 0)\n",
    "\n",
    "# Create plot\n",
    "sns.displot(data=data, x='Total Claim Amount', hue='Response', kde=True, multiple='stack', bins=20)\n",
    "plt.title('Response Rate by Total Claim Amount')\n",
    "plt.xlabel('Total Claim Amount')\n",
    "plt.ylabel('Count')\n",
    "plt.show()"
   ]
  },
  {
   "cell_type": "code",
   "execution_count": null,
   "id": "99946839",
   "metadata": {},
   "outputs": [],
   "source": [
    "\n"
   ]
  },
  {
   "cell_type": "code",
   "execution_count": null,
   "id": "aec6a48c",
   "metadata": {},
   "outputs": [],
   "source": []
  },
  {
   "cell_type": "code",
   "execution_count": null,
   "id": "71bb6196",
   "metadata": {},
   "outputs": [],
   "source": []
  }
 ],
 "metadata": {
  "kernelspec": {
   "display_name": "Python 3 (ipykernel)",
   "language": "python",
   "name": "python3"
  },
  "language_info": {
   "codemirror_mode": {
    "name": "ipython",
    "version": 3
   },
   "file_extension": ".py",
   "mimetype": "text/x-python",
   "name": "python",
   "nbconvert_exporter": "python",
   "pygments_lexer": "ipython3",
   "version": "3.10.9"
  }
 },
 "nbformat": 4,
 "nbformat_minor": 5
}
